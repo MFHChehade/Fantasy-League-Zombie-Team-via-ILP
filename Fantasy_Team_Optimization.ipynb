{
 "cells": [
  {
   "cell_type": "markdown",
   "metadata": {},
   "source": [
    "**Mohamad Chehade**"
   ]
  },
  {
   "cell_type": "markdown",
   "metadata": {
    "id": "WQHEJcclD-3m"
   },
   "source": [
    "Import the dataset with the players:"
   ]
  },
  {
   "cell_type": "code",
   "execution_count": 21,
   "metadata": {
    "id": "ZQOOtSo_EBIe"
   },
   "outputs": [],
   "source": [
    "import pandas as pd\n",
    "\n",
    "df = pd.read_excel (r'Players - New.xlsx')"
   ]
  },
  {
   "cell_type": "markdown",
   "metadata": {
    "id": "0-IlAJgGEQTd"
   },
   "source": [
    "Visualize the dataset:"
   ]
  },
  {
   "cell_type": "code",
   "execution_count": 22,
   "metadata": {
    "colab": {
     "base_uri": "https://localhost:8080/",
     "height": 206
    },
    "id": "hiDgI5KnESFw",
    "outputId": "24b6e5f1-7054-4625-c6f1-b2c618eab91f"
   },
   "outputs": [
    {
     "data": {
      "text/html": [
       "<div>\n",
       "<style scoped>\n",
       "    .dataframe tbody tr th:only-of-type {\n",
       "        vertical-align: middle;\n",
       "    }\n",
       "\n",
       "    .dataframe tbody tr th {\n",
       "        vertical-align: top;\n",
       "    }\n",
       "\n",
       "    .dataframe thead th {\n",
       "        text-align: right;\n",
       "    }\n",
       "</style>\n",
       "<table border=\"1\" class=\"dataframe\">\n",
       "  <thead>\n",
       "    <tr style=\"text-align: right;\">\n",
       "      <th></th>\n",
       "      <th>Overall Rank</th>\n",
       "      <th>FW Rank</th>\n",
       "      <th>MID Rank</th>\n",
       "      <th>DEF Rank</th>\n",
       "      <th>GK Rank</th>\n",
       "      <th>Player</th>\n",
       "      <th>Team</th>\n",
       "      <th>Pos</th>\n",
       "      <th>Price</th>\n",
       "      <th>TSB%</th>\n",
       "      <th>Pts</th>\n",
       "      <th>MIN</th>\n",
       "    </tr>\n",
       "  </thead>\n",
       "  <tbody>\n",
       "    <tr>\n",
       "      <td>0</td>\n",
       "      <td>1</td>\n",
       "      <td>NaN</td>\n",
       "      <td>1.0</td>\n",
       "      <td>NaN</td>\n",
       "      <td>NaN</td>\n",
       "      <td>Mohamed Salah</td>\n",
       "      <td>LIV</td>\n",
       "      <td>M</td>\n",
       "      <td>13.0</td>\n",
       "      <td>61.5</td>\n",
       "      <td>272.30</td>\n",
       "      <td>2800</td>\n",
       "    </tr>\n",
       "    <tr>\n",
       "      <td>1</td>\n",
       "      <td>2</td>\n",
       "      <td>NaN</td>\n",
       "      <td>2.0</td>\n",
       "      <td>NaN</td>\n",
       "      <td>NaN</td>\n",
       "      <td>Son Heung-Min</td>\n",
       "      <td>TOT</td>\n",
       "      <td>M</td>\n",
       "      <td>12.0</td>\n",
       "      <td>24.9</td>\n",
       "      <td>245.70</td>\n",
       "      <td>2900</td>\n",
       "    </tr>\n",
       "    <tr>\n",
       "      <td>2</td>\n",
       "      <td>3</td>\n",
       "      <td>NaN</td>\n",
       "      <td>3.0</td>\n",
       "      <td>NaN</td>\n",
       "      <td>NaN</td>\n",
       "      <td>Kevin De Bruyne</td>\n",
       "      <td>MCI</td>\n",
       "      <td>M</td>\n",
       "      <td>12.0</td>\n",
       "      <td>14.9</td>\n",
       "      <td>230.40</td>\n",
       "      <td>2600</td>\n",
       "    </tr>\n",
       "    <tr>\n",
       "      <td>3</td>\n",
       "      <td>4</td>\n",
       "      <td>NaN</td>\n",
       "      <td>NaN</td>\n",
       "      <td>1.0</td>\n",
       "      <td>NaN</td>\n",
       "      <td>Joao Cancelo</td>\n",
       "      <td>MCI</td>\n",
       "      <td>D</td>\n",
       "      <td>7.0</td>\n",
       "      <td>45.5</td>\n",
       "      <td>227.25</td>\n",
       "      <td>3000</td>\n",
       "    </tr>\n",
       "    <tr>\n",
       "      <td>4</td>\n",
       "      <td>5</td>\n",
       "      <td>NaN</td>\n",
       "      <td>NaN</td>\n",
       "      <td>2.0</td>\n",
       "      <td>NaN</td>\n",
       "      <td>Trent Alexander-Arnold</td>\n",
       "      <td>LIV</td>\n",
       "      <td>D</td>\n",
       "      <td>7.5</td>\n",
       "      <td>59.6</td>\n",
       "      <td>225.50</td>\n",
       "      <td>2800</td>\n",
       "    </tr>\n",
       "  </tbody>\n",
       "</table>\n",
       "</div>"
      ],
      "text/plain": [
       "   Overall Rank  FW Rank  MID Rank  DEF Rank  GK Rank                  Player  \\\n",
       "0             1      NaN       1.0       NaN      NaN           Mohamed Salah   \n",
       "1             2      NaN       2.0       NaN      NaN           Son Heung-Min   \n",
       "2             3      NaN       3.0       NaN      NaN         Kevin De Bruyne   \n",
       "3             4      NaN       NaN       1.0      NaN            Joao Cancelo   \n",
       "4             5      NaN       NaN       2.0      NaN  Trent Alexander-Arnold   \n",
       "\n",
       "  Team Pos  Price  TSB%     Pts   MIN  \n",
       "0  LIV   M   13.0  61.5  272.30  2800  \n",
       "1  TOT   M   12.0  24.9  245.70  2900  \n",
       "2  MCI   M   12.0  14.9  230.40  2600  \n",
       "3  MCI   D    7.0  45.5  227.25  3000  \n",
       "4  LIV   D    7.5  59.6  225.50  2800  "
      ]
     },
     "execution_count": 22,
     "metadata": {},
     "output_type": "execute_result"
    }
   ],
   "source": [
    "df.head()"
   ]
  },
  {
   "cell_type": "markdown",
   "metadata": {
    "id": "SmK6m2HkOT-I"
   },
   "source": [
    "sort variables by team:"
   ]
  },
  {
   "cell_type": "code",
   "execution_count": 23,
   "metadata": {
    "id": "1HhjHie-OdxW"
   },
   "outputs": [],
   "source": [
    "df=df.sort_values(by=['Team']) ; "
   ]
  },
  {
   "cell_type": "markdown",
   "metadata": {
    "id": "ITKbvYBPOf6A"
   },
   "source": [
    "Check new dataframe:"
   ]
  },
  {
   "cell_type": "code",
   "execution_count": 24,
   "metadata": {
    "colab": {
     "base_uri": "https://localhost:8080/",
     "height": 206
    },
    "id": "omOZs-HbOry_",
    "outputId": "b40cbb77-45c8-4a13-c5e5-36bb52357b90"
   },
   "outputs": [
    {
     "data": {
      "text/html": [
       "<div>\n",
       "<style scoped>\n",
       "    .dataframe tbody tr th:only-of-type {\n",
       "        vertical-align: middle;\n",
       "    }\n",
       "\n",
       "    .dataframe tbody tr th {\n",
       "        vertical-align: top;\n",
       "    }\n",
       "\n",
       "    .dataframe thead th {\n",
       "        text-align: right;\n",
       "    }\n",
       "</style>\n",
       "<table border=\"1\" class=\"dataframe\">\n",
       "  <thead>\n",
       "    <tr style=\"text-align: right;\">\n",
       "      <th></th>\n",
       "      <th>Overall Rank</th>\n",
       "      <th>FW Rank</th>\n",
       "      <th>MID Rank</th>\n",
       "      <th>DEF Rank</th>\n",
       "      <th>GK Rank</th>\n",
       "      <th>Player</th>\n",
       "      <th>Team</th>\n",
       "      <th>Pos</th>\n",
       "      <th>Price</th>\n",
       "      <th>TSB%</th>\n",
       "      <th>Pts</th>\n",
       "      <th>MIN</th>\n",
       "    </tr>\n",
       "  </thead>\n",
       "  <tbody>\n",
       "    <tr>\n",
       "      <td>241</td>\n",
       "      <td>242</td>\n",
       "      <td>36.0</td>\n",
       "      <td>NaN</td>\n",
       "      <td>NaN</td>\n",
       "      <td>NaN</td>\n",
       "      <td>Eddie Nketiah</td>\n",
       "      <td>ARS</td>\n",
       "      <td>F</td>\n",
       "      <td>7.0</td>\n",
       "      <td>0.9</td>\n",
       "      <td>70.50</td>\n",
       "      <td>1200</td>\n",
       "    </tr>\n",
       "    <tr>\n",
       "      <td>96</td>\n",
       "      <td>97</td>\n",
       "      <td>NaN</td>\n",
       "      <td>40.0</td>\n",
       "      <td>NaN</td>\n",
       "      <td>NaN</td>\n",
       "      <td>Gabriel Martinelli</td>\n",
       "      <td>ARS</td>\n",
       "      <td>M</td>\n",
       "      <td>6.0</td>\n",
       "      <td>21.3</td>\n",
       "      <td>106.70</td>\n",
       "      <td>2000</td>\n",
       "    </tr>\n",
       "    <tr>\n",
       "      <td>46</td>\n",
       "      <td>47</td>\n",
       "      <td>NaN</td>\n",
       "      <td>NaN</td>\n",
       "      <td>13.0</td>\n",
       "      <td>NaN</td>\n",
       "      <td>Gabriel</td>\n",
       "      <td>ARS</td>\n",
       "      <td>D</td>\n",
       "      <td>5.0</td>\n",
       "      <td>8.7</td>\n",
       "      <td>135.75</td>\n",
       "      <td>2700</td>\n",
       "    </tr>\n",
       "    <tr>\n",
       "      <td>196</td>\n",
       "      <td>197</td>\n",
       "      <td>NaN</td>\n",
       "      <td>76.0</td>\n",
       "      <td>NaN</td>\n",
       "      <td>NaN</td>\n",
       "      <td>Fabio Vieira</td>\n",
       "      <td>ARS</td>\n",
       "      <td>M</td>\n",
       "      <td>6.0</td>\n",
       "      <td>0.2</td>\n",
       "      <td>83.85</td>\n",
       "      <td>1600</td>\n",
       "    </tr>\n",
       "    <tr>\n",
       "      <td>40</td>\n",
       "      <td>41</td>\n",
       "      <td>NaN</td>\n",
       "      <td>NaN</td>\n",
       "      <td>NaN</td>\n",
       "      <td>5.0</td>\n",
       "      <td>Aaron Ramsdale</td>\n",
       "      <td>ARS</td>\n",
       "      <td>G</td>\n",
       "      <td>5.0</td>\n",
       "      <td>14.3</td>\n",
       "      <td>138.90</td>\n",
       "      <td>3420</td>\n",
       "    </tr>\n",
       "  </tbody>\n",
       "</table>\n",
       "</div>"
      ],
      "text/plain": [
       "     Overall Rank  FW Rank  MID Rank  DEF Rank  GK Rank              Player  \\\n",
       "241           242     36.0       NaN       NaN      NaN       Eddie Nketiah   \n",
       "96             97      NaN      40.0       NaN      NaN  Gabriel Martinelli   \n",
       "46             47      NaN       NaN      13.0      NaN             Gabriel   \n",
       "196           197      NaN      76.0       NaN      NaN        Fabio Vieira   \n",
       "40             41      NaN       NaN       NaN      5.0      Aaron Ramsdale   \n",
       "\n",
       "    Team Pos  Price  TSB%     Pts   MIN  \n",
       "241  ARS   F    7.0   0.9   70.50  1200  \n",
       "96   ARS   M    6.0  21.3  106.70  2000  \n",
       "46   ARS   D    5.0   8.7  135.75  2700  \n",
       "196  ARS   M    6.0   0.2   83.85  1600  \n",
       "40   ARS   G    5.0  14.3  138.90  3420  "
      ]
     },
     "execution_count": 24,
     "metadata": {},
     "output_type": "execute_result"
    }
   ],
   "source": [
    "df.head()"
   ]
  },
  {
   "cell_type": "code",
   "execution_count": 25,
   "metadata": {
    "id": "7zGdpY6QQFwI"
   },
   "outputs": [],
   "source": [
    "df.index=range(1,len(df)+1)\n",
    "df[\"index\"]=df.index"
   ]
  },
  {
   "cell_type": "code",
   "execution_count": 26,
   "metadata": {
    "colab": {
     "base_uri": "https://localhost:8080/",
     "height": 206
    },
    "id": "0-Wj8344QNn3",
    "outputId": "59a13120-7e27-4997-d401-53a26ec0b3a6"
   },
   "outputs": [
    {
     "data": {
      "text/html": [
       "<div>\n",
       "<style scoped>\n",
       "    .dataframe tbody tr th:only-of-type {\n",
       "        vertical-align: middle;\n",
       "    }\n",
       "\n",
       "    .dataframe tbody tr th {\n",
       "        vertical-align: top;\n",
       "    }\n",
       "\n",
       "    .dataframe thead th {\n",
       "        text-align: right;\n",
       "    }\n",
       "</style>\n",
       "<table border=\"1\" class=\"dataframe\">\n",
       "  <thead>\n",
       "    <tr style=\"text-align: right;\">\n",
       "      <th></th>\n",
       "      <th>Overall Rank</th>\n",
       "      <th>FW Rank</th>\n",
       "      <th>MID Rank</th>\n",
       "      <th>DEF Rank</th>\n",
       "      <th>GK Rank</th>\n",
       "      <th>Player</th>\n",
       "      <th>Team</th>\n",
       "      <th>Pos</th>\n",
       "      <th>Price</th>\n",
       "      <th>TSB%</th>\n",
       "      <th>Pts</th>\n",
       "      <th>MIN</th>\n",
       "      <th>index</th>\n",
       "    </tr>\n",
       "  </thead>\n",
       "  <tbody>\n",
       "    <tr>\n",
       "      <td>1</td>\n",
       "      <td>242</td>\n",
       "      <td>36.0</td>\n",
       "      <td>NaN</td>\n",
       "      <td>NaN</td>\n",
       "      <td>NaN</td>\n",
       "      <td>Eddie Nketiah</td>\n",
       "      <td>ARS</td>\n",
       "      <td>F</td>\n",
       "      <td>7.0</td>\n",
       "      <td>0.9</td>\n",
       "      <td>70.50</td>\n",
       "      <td>1200</td>\n",
       "      <td>1</td>\n",
       "    </tr>\n",
       "    <tr>\n",
       "      <td>2</td>\n",
       "      <td>97</td>\n",
       "      <td>NaN</td>\n",
       "      <td>40.0</td>\n",
       "      <td>NaN</td>\n",
       "      <td>NaN</td>\n",
       "      <td>Gabriel Martinelli</td>\n",
       "      <td>ARS</td>\n",
       "      <td>M</td>\n",
       "      <td>6.0</td>\n",
       "      <td>21.3</td>\n",
       "      <td>106.70</td>\n",
       "      <td>2000</td>\n",
       "      <td>2</td>\n",
       "    </tr>\n",
       "    <tr>\n",
       "      <td>3</td>\n",
       "      <td>47</td>\n",
       "      <td>NaN</td>\n",
       "      <td>NaN</td>\n",
       "      <td>13.0</td>\n",
       "      <td>NaN</td>\n",
       "      <td>Gabriel</td>\n",
       "      <td>ARS</td>\n",
       "      <td>D</td>\n",
       "      <td>5.0</td>\n",
       "      <td>8.7</td>\n",
       "      <td>135.75</td>\n",
       "      <td>2700</td>\n",
       "      <td>3</td>\n",
       "    </tr>\n",
       "    <tr>\n",
       "      <td>4</td>\n",
       "      <td>197</td>\n",
       "      <td>NaN</td>\n",
       "      <td>76.0</td>\n",
       "      <td>NaN</td>\n",
       "      <td>NaN</td>\n",
       "      <td>Fabio Vieira</td>\n",
       "      <td>ARS</td>\n",
       "      <td>M</td>\n",
       "      <td>6.0</td>\n",
       "      <td>0.2</td>\n",
       "      <td>83.85</td>\n",
       "      <td>1600</td>\n",
       "      <td>4</td>\n",
       "    </tr>\n",
       "    <tr>\n",
       "      <td>5</td>\n",
       "      <td>41</td>\n",
       "      <td>NaN</td>\n",
       "      <td>NaN</td>\n",
       "      <td>NaN</td>\n",
       "      <td>5.0</td>\n",
       "      <td>Aaron Ramsdale</td>\n",
       "      <td>ARS</td>\n",
       "      <td>G</td>\n",
       "      <td>5.0</td>\n",
       "      <td>14.3</td>\n",
       "      <td>138.90</td>\n",
       "      <td>3420</td>\n",
       "      <td>5</td>\n",
       "    </tr>\n",
       "  </tbody>\n",
       "</table>\n",
       "</div>"
      ],
      "text/plain": [
       "   Overall Rank  FW Rank  MID Rank  DEF Rank  GK Rank              Player  \\\n",
       "1           242     36.0       NaN       NaN      NaN       Eddie Nketiah   \n",
       "2            97      NaN      40.0       NaN      NaN  Gabriel Martinelli   \n",
       "3            47      NaN       NaN      13.0      NaN             Gabriel   \n",
       "4           197      NaN      76.0       NaN      NaN        Fabio Vieira   \n",
       "5            41      NaN       NaN       NaN      5.0      Aaron Ramsdale   \n",
       "\n",
       "  Team Pos  Price  TSB%     Pts   MIN  index  \n",
       "1  ARS   F    7.0   0.9   70.50  1200      1  \n",
       "2  ARS   M    6.0  21.3  106.70  2000      2  \n",
       "3  ARS   D    5.0   8.7  135.75  2700      3  \n",
       "4  ARS   M    6.0   0.2   83.85  1600      4  \n",
       "5  ARS   G    5.0  14.3  138.90  3420      5  "
      ]
     },
     "execution_count": 26,
     "metadata": {},
     "output_type": "execute_result"
    }
   ],
   "source": [
    "df.head()"
   ]
  },
  {
   "cell_type": "markdown",
   "metadata": {
    "id": "GKBVtSwTO7n0"
   },
   "source": [
    "Create dictionary that maps:\n",
    "Position -> set of indices "
   ]
  },
  {
   "cell_type": "code",
   "execution_count": 27,
   "metadata": {
    "id": "alh78NTOPEFf"
   },
   "outputs": [],
   "source": [
    "Dict = {\"G\":[],\"D\":[],\"M\":[],\"F\":[]}\n",
    "x=0\n",
    "for i in range(1,len(df)+1):\n",
    "  Dict[df.loc[i,\"Pos\"]].append(df.loc[i,\"index\"]-1)"
   ]
  },
  {
   "cell_type": "markdown",
   "metadata": {
    "id": "sbfsvSw9U7GN"
   },
   "source": [
    "Create list of stop values for each team: "
   ]
  },
  {
   "cell_type": "code",
   "execution_count": 28,
   "metadata": {
    "id": "BDeAhCV_VEnc"
   },
   "outputs": [],
   "source": [
    "Teams = []\n",
    "for i in range(1,len(df)):\n",
    "    if df.loc[i,\"Team\"]!=df.loc[i+1,\"Team\"]:\n",
    "      Teams.append(i)\n",
    "Teams.append(len(df))"
   ]
  },
  {
   "cell_type": "markdown",
   "metadata": {
    "id": "udD6abK7OL1_"
   },
   "source": [
    "install library"
   ]
  },
  {
   "cell_type": "code",
   "execution_count": 29,
   "metadata": {
    "id": "d33D1430FEsZ"
   },
   "outputs": [
    {
     "name": "stderr",
     "output_type": "stream",
     "text": [
      "WARNING: Ignoring invalid distribution -umpy (c:\\users\\hp\\anaconda\\lib\\site-packages)\n",
      "WARNING: Ignoring invalid distribution -umpy (c:\\users\\hp\\anaconda\\lib\\site-packages)\n",
      "WARNING: Ignoring invalid distribution -umpy (c:\\users\\hp\\anaconda\\lib\\site-packages)\n",
      "WARNING: Ignoring invalid distribution -umpy (c:\\users\\hp\\anaconda\\lib\\site-packages)\n",
      "WARNING: Ignoring invalid distribution -umpy (c:\\users\\hp\\anaconda\\lib\\site-packages)\n",
      "WARNING: Ignoring invalid distribution -umpy (c:\\users\\hp\\anaconda\\lib\\site-packages)\n",
      "WARNING: You are using pip version 21.2.4; however, version 22.2.2 is available.\n",
      "You should consider upgrading via the 'C:\\Users\\HP\\Anaconda\\python.exe -m pip install --upgrade pip' command.\n"
     ]
    }
   ],
   "source": [
    "!python -m pip install --upgrade --user -q ortools"
   ]
  },
  {
   "cell_type": "markdown",
   "metadata": {
    "id": "sumKiQRgFQfA"
   },
   "source": [
    "Import the library"
   ]
  },
  {
   "cell_type": "code",
   "execution_count": 30,
   "metadata": {
    "id": "27hh791jFR5_"
   },
   "outputs": [],
   "source": [
    "from ortools.linear_solver import pywraplp"
   ]
  },
  {
   "cell_type": "markdown",
   "metadata": {
    "id": "_Tgb_otzS8cg"
   },
   "source": [
    "Initialize solver:"
   ]
  },
  {
   "cell_type": "code",
   "execution_count": 31,
   "metadata": {
    "id": "9WMNi6NPS9u9"
   },
   "outputs": [],
   "source": [
    "solver = pywraplp.Solver('Maximize Points', pywraplp.Solver.CBC_MIXED_INTEGER_PROGRAMMING)"
   ]
  },
  {
   "cell_type": "markdown",
   "metadata": {
    "id": "m16SXZ6jEqq1"
   },
   "source": [
    "Create the player boolean variables:"
   ]
  },
  {
   "cell_type": "code",
   "execution_count": 32,
   "metadata": {
    "id": "Mi-Lb4OASkdX"
   },
   "outputs": [],
   "source": [
    "Variables = [1]*len(df)\n",
    "for i in range(len(df)):\n",
    "  Variables[i] = solver.IntVar(0,1,df.loc[i+1,\"Player\"])"
   ]
  },
  {
   "cell_type": "markdown",
   "metadata": {
    "id": "RHnsGkWpAUrz"
   },
   "source": [
    "Create slack variables "
   ]
  },
  {
   "cell_type": "code",
   "execution_count": 33,
   "metadata": {
    "id": "tQnk3fJWAV80"
   },
   "outputs": [],
   "source": [
    "z1 = solver.IntVar(0,1,\"z1\")\n",
    "z2 = solver.IntVar(0,1,\"z2\")"
   ]
  },
  {
   "cell_type": "markdown",
   "metadata": {
    "id": "Ehq3CDh-AIXH"
   },
   "source": [
    "Create slack constants"
   ]
  },
  {
   "cell_type": "code",
   "execution_count": 34,
   "metadata": {
    "id": "AIAg3m9pARZ7"
   },
   "outputs": [],
   "source": [
    "M = 100 \n",
    "epsilon = 1e-3"
   ]
  },
  {
   "cell_type": "markdown",
   "metadata": {
    "id": "VomJcJjtTCFG"
   },
   "source": [
    "Create objective function:\n",
    "maximize player_boolean*player_points"
   ]
  },
  {
   "cell_type": "code",
   "execution_count": 35,
   "metadata": {
    "id": "Hcs39aowTQaV"
   },
   "outputs": [],
   "source": [
    "Objective = 0\n",
    "for i in range(len(df)):\n",
    "  Objective = Objective + Variables[i]*df.loc[i+1,\"Pts\"]\n",
    "solver.Maximize(Objective)"
   ]
  },
  {
   "cell_type": "markdown",
   "metadata": {
    "id": "tWkSQ_ANUlmO"
   },
   "source": [
    "Add team constraint: player_boolean_team <=3"
   ]
  },
  {
   "cell_type": "code",
   "execution_count": 36,
   "metadata": {
    "id": "lWSRHVF1UyH1"
   },
   "outputs": [],
   "source": [
    "for i in range (1,len(Teams)):\n",
    "  Team_constraint = 0\n",
    "  if i==0: \n",
    "    Team_constraint +=Variables[0:Teams[i]]\n",
    "    solver.Add(Team_constraint<=3)\n",
    "  else:\n",
    "    for j in range(Teams[i-1],Teams[i]):\n",
    "          Team_constraint += Variables[j]\n",
    "    solver.Add(Team_constraint<=3)"
   ]
  },
  {
   "cell_type": "markdown",
   "metadata": {
    "id": "iXjwyCE_Zqfy"
   },
   "source": [
    "Add number of players constraint:"
   ]
  },
  {
   "cell_type": "code",
   "execution_count": 37,
   "metadata": {
    "colab": {
     "base_uri": "https://localhost:8080/"
    },
    "id": "_JaGsuMWZtWo",
    "outputId": "a970733a-e414-409b-db20-e2043f9e96b0"
   },
   "outputs": [
    {
     "data": {
      "text/plain": [
       "<ortools.linear_solver.pywraplp.Constraint; proxy of <Swig Object of type 'operations_research::MPConstraint *' at 0x00000223C7670F30> >"
      ]
     },
     "execution_count": 37,
     "metadata": {},
     "output_type": "execute_result"
    }
   ],
   "source": [
    "Number = 0\n",
    "for i in range(len(df)):\n",
    "  Number = Number + Variables[i]\n",
    "solver.Add(Number==11)"
   ]
  },
  {
   "cell_type": "markdown",
   "metadata": {
    "id": "qFblyLUna3pr"
   },
   "source": [
    "Add positions constraint "
   ]
  },
  {
   "cell_type": "code",
   "execution_count": 38,
   "metadata": {
    "colab": {
     "base_uri": "https://localhost:8080/"
    },
    "id": "leKt8-Lxa5nq",
    "outputId": "e7dcf3a2-6d58-4dc2-a99b-327a330e1fac"
   },
   "outputs": [
    {
     "data": {
      "text/plain": [
       "<ortools.linear_solver.pywraplp.Constraint; proxy of <Swig Object of type 'operations_research::MPConstraint *' at 0x00000223C7705690> >"
      ]
     },
     "execution_count": 38,
     "metadata": {},
     "output_type": "execute_result"
    }
   ],
   "source": [
    "Goalkeeper = 0\n",
    "for i in range(len(Dict[\"G\"])):\n",
    "  Goalkeeper = Goalkeeper + Variables[Dict[\"G\"][i]]\n",
    "solver.Add(Goalkeeper == 1)\n",
    "\n",
    "Defender = 0\n",
    "for i in range(len(Dict[\"D\"])):\n",
    "  Defender = Defender + Variables[Dict[\"D\"][i]]\n",
    "solver.Add(Defender >= 3)\n",
    "solver.Add(Defender <= 5)\n",
    "\n",
    "Midfielder = 0\n",
    "for i in range(len(Dict[\"M\"])):\n",
    "  Midfielder = Midfielder + Variables[Dict[\"M\"][i]]\n",
    "solver.Add(Midfielder >= 2)\n",
    "solver.Add(Midfielder <= 5)\n",
    "\n",
    "Forward = 0\n",
    "for i in range(len(Dict[\"F\"])):\n",
    "  Forward  = Forward  + Variables[Dict[\"F\"][i]]\n",
    "solver.Add(Forward  >= 1)\n",
    "solver.Add(Forward  <= 3)"
   ]
  },
  {
   "cell_type": "markdown",
   "metadata": {
    "id": "ko9LlUI5UFNC"
   },
   "source": [
    "Price Constraint: player_boolean*player_price <=83.5"
   ]
  },
  {
   "cell_type": "code",
   "execution_count": 39,
   "metadata": {
    "colab": {
     "base_uri": "https://localhost:8080/"
    },
    "id": "9iiKXSucUY8V",
    "outputId": "4f0cb52c-cf3c-49f5-8f40-e29af4f9855f"
   },
   "outputs": [
    {
     "data": {
      "text/plain": [
       "<ortools.linear_solver.pywraplp.Constraint; proxy of <Swig Object of type 'operations_research::MPConstraint *' at 0x00000223C799F510> >"
      ]
     },
     "execution_count": 39,
     "metadata": {},
     "output_type": "execute_result"
    }
   ],
   "source": [
    "Price = 0\n",
    "for i in range(len(df)):\n",
    "  Price = Price + Variables[i]*df.loc[i+1,\"Price\"]\n",
    "solver.Add(Price<=83.5)"
   ]
  },
  {
   "cell_type": "markdown",
   "metadata": {
    "id": "P-yhQgy9AqTd"
   },
   "source": [
    "Case of 5 defenders (Budget: 82.5)"
   ]
  },
  {
   "cell_type": "code",
   "execution_count": 40,
   "metadata": {
    "colab": {
     "base_uri": "https://localhost:8080/"
    },
    "id": "evCZvR1eAwxJ",
    "outputId": "8bd61f0e-75bd-4eeb-a283-3c03852ea659"
   },
   "outputs": [
    {
     "data": {
      "text/plain": [
       "<ortools.linear_solver.pywraplp.Constraint; proxy of <Swig Object of type 'operations_research::MPConstraint *' at 0x00000223C767DC60> >"
      ]
     },
     "execution_count": 40,
     "metadata": {},
     "output_type": "execute_result"
    }
   ],
   "source": [
    "solver.Add(5 - Defender <= M*z1) \n",
    "solver.Add(Defender - 5 <= M*(1-z1) - epsilon) \n",
    "solver.Add(Price - 82.5 <= M*z1)"
   ]
  },
  {
   "cell_type": "markdown",
   "metadata": {
    "id": "kFGozbgjA7yz"
   },
   "source": [
    "Case of 4 defenders (Budget: 83)"
   ]
  },
  {
   "cell_type": "code",
   "execution_count": 41,
   "metadata": {
    "colab": {
     "base_uri": "https://localhost:8080/"
    },
    "id": "LJfY98C7BCbT",
    "outputId": "b22f6d79-737a-4457-cc02-9a02e9475519"
   },
   "outputs": [
    {
     "data": {
      "text/plain": [
       "<ortools.linear_solver.pywraplp.Constraint; proxy of <Swig Object of type 'operations_research::MPConstraint *' at 0x00000223C767DF30> >"
      ]
     },
     "execution_count": 41,
     "metadata": {},
     "output_type": "execute_result"
    }
   ],
   "source": [
    "solver.Add(4 - Defender <= M*z2)\n",
    "solver.Add(Defender - 4 <= M*(1-z2) - epsilon) \n",
    "solver.Add(Price - 83 <= M*z2)"
   ]
  },
  {
   "cell_type": "code",
   "execution_count": 42,
   "metadata": {
    "id": "774SB7krb47Q"
   },
   "outputs": [],
   "source": [
    "status = solver.Solve()"
   ]
  },
  {
   "cell_type": "code",
   "execution_count": 43,
   "metadata": {
    "colab": {
     "base_uri": "https://localhost:8080/"
    },
    "id": "AiBiZ9afb6NL",
    "outputId": "940f373b-e17a-4e91-9a02-1c063232bd0c"
   },
   "outputs": [
    {
     "name": "stdout",
     "output_type": "stream",
     "text": [
      "================= Solution =================\n",
      "Number of Points = 2445.8999999999996\n",
      "\n",
      "Tyrone Mings (AVL) = 123.5\n",
      "\n",
      "Reece James (CHE) = 188.25\n",
      "\n",
      "Wilfried Zaha (CRY) = 188.5\n",
      "\n",
      "Aleksandar Mitrovic (FUL) = 170.15\n",
      "\n",
      "Trent Alexander-Arnold (LIV) = 225.5\n",
      "\n",
      "Alisson (LIV) = 177.9\n",
      "\n",
      "Mohamed Salah (LIV) = 272.3\n",
      "\n",
      "Phil Foden (MCI) = 192.35\n",
      "\n",
      "Joao Cancelo (MCI) = 227.25\n",
      "\n",
      "Son Heung-Min (TOT) = 245.7\n",
      "\n",
      "Ivan Perisic (TOT) = 169.5\n",
      "\n",
      "Price = 82.5m\n",
      "\n",
      "Defenders = 5.0\n",
      "\n",
      "Midfielders = 4.0\n",
      "\n",
      "Forwards = 1.0\n",
      "\n"
     ]
    }
   ],
   "source": [
    "# If an optimal solution has been found, print results\n",
    "if status == pywraplp.Solver.OPTIMAL:\n",
    "  print('================= Solution =================')\n",
    "  print(\"Number of Points = \" + str(Objective.solution_value()+265)+\"\\n\")\n",
    "  for i in range(1,len(df)+1):\n",
    "        if Variables[i-1].solution_value()==1:\n",
    "          print(df.loc[i,\"Player\"] + \" (\" + df.loc[i,\"Team\"] +\")\" + \" = \" + str(df.loc[i,\"Pts\"])+\"\\n\")\n",
    "  print(\"Price = \" + str(Price.solution_value()) + \"m\"+\"\\n\")\n",
    "  print(\"Defenders = \" + str(Defender.solution_value())+\"\\n\")\n",
    "  print(\"Midfielders = \" + str(Midfielder.solution_value())+\"\\n\")\n",
    "  print(\"Forwards = \" + str(Forward.solution_value())+\"\\n\")\n",
    "else:\n",
    "  print('The solver could not find an optimal solution.')"
   ]
  }
 ],
 "metadata": {
  "colab": {
   "name": "Zombie Team Optimization.ipynb",
   "provenance": []
  },
  "kernelspec": {
   "display_name": "Python 3",
   "language": "python",
   "name": "python3"
  },
  "language_info": {
   "codemirror_mode": {
    "name": "ipython",
    "version": 3
   },
   "file_extension": ".py",
   "mimetype": "text/x-python",
   "name": "python",
   "nbconvert_exporter": "python",
   "pygments_lexer": "ipython3",
   "version": "3.7.4"
  }
 },
 "nbformat": 4,
 "nbformat_minor": 1
}
